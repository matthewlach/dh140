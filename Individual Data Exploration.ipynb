{
 "cells": [
  {
   "cell_type": "markdown",
   "metadata": {},
   "source": [
    "## LA County Neighborhoods (Individual Data Exploration)\n",
    "This dataset is a .geojson file showing the location of each neighborhood in Los Angeles County. I will use geopandas in order to import and analyze the data. I will use commands to present and trim the data, as well as make plots showing the location of each neighborhood. The only numerical values in the data set are the geometry data, so it may be more difficult to filter the data. By using geopandas along with the geometry column, I will make a plot of each neighborhood in LA County."
   ]
  },
  {
   "cell_type": "markdown",
   "metadata": {},
   "source": [
    "We first install geopandas in order to look at our spatial data file."
   ]
  },
  {
   "cell_type": "code",
   "execution_count": 4,
   "metadata": {},
   "outputs": [],
   "source": [
    "import geopandas as gpd"
   ]
  },
  {
   "cell_type": "markdown",
   "metadata": {},
   "source": [
    "I import the data as a gpd.readfile and asssign it a name to be referenced later."
   ]
  },
  {
   "cell_type": "code",
   "execution_count": 25,
   "metadata": {},
   "outputs": [
    {
     "data": {
      "text/html": [
       "<div>\n",
       "<style scoped>\n",
       "    .dataframe tbody tr th:only-of-type {\n",
       "        vertical-align: middle;\n",
       "    }\n",
       "\n",
       "    .dataframe tbody tr th {\n",
       "        vertical-align: top;\n",
       "    }\n",
       "\n",
       "    .dataframe thead th {\n",
       "        text-align: right;\n",
       "    }\n",
       "</style>\n",
       "<table border=\"1\" class=\"dataframe\">\n",
       "  <thead>\n",
       "    <tr style=\"text-align: right;\">\n",
       "      <th></th>\n",
       "      <th>kind</th>\n",
       "      <th>external_id</th>\n",
       "      <th>name</th>\n",
       "      <th>slug</th>\n",
       "      <th>set</th>\n",
       "      <th>metadata</th>\n",
       "      <th>resource_uri</th>\n",
       "      <th>geometry</th>\n",
       "    </tr>\n",
       "  </thead>\n",
       "  <tbody>\n",
       "    <tr>\n",
       "      <th>0</th>\n",
       "      <td>L.A. County Neighborhood (Current)</td>\n",
       "      <td>acton</td>\n",
       "      <td>Acton</td>\n",
       "      <td>acton-la-county-neighborhood-current</td>\n",
       "      <td>/1.0/boundary-set/la-county-neighborhoods-curr...</td>\n",
       "      <td>{'sqmi': 39.3391089485, 'type': 'unincorporate...</td>\n",
       "      <td>/1.0/boundary/acton-la-county-neighborhood-cur...</td>\n",
       "      <td>MULTIPOLYGON (((-118.20262 34.53899, -118.1894...</td>\n",
       "    </tr>\n",
       "    <tr>\n",
       "      <th>1</th>\n",
       "      <td>L.A. County Neighborhood (Current)</td>\n",
       "      <td>adams-normandie</td>\n",
       "      <td>Adams-Normandie</td>\n",
       "      <td>adams-normandie-la-county-neighborhood-current</td>\n",
       "      <td>/1.0/boundary-set/la-county-neighborhoods-curr...</td>\n",
       "      <td>{'sqmi': 0.805350187789, 'type': 'segment-of-a...</td>\n",
       "      <td>/1.0/boundary/adams-normandie-la-county-neighb...</td>\n",
       "      <td>MULTIPOLYGON (((-118.30901 34.03741, -118.3004...</td>\n",
       "    </tr>\n",
       "    <tr>\n",
       "      <th>2</th>\n",
       "      <td>L.A. County Neighborhood (Current)</td>\n",
       "      <td>agoura-hills</td>\n",
       "      <td>Agoura Hills</td>\n",
       "      <td>agoura-hills-la-county-neighborhood-current</td>\n",
       "      <td>/1.0/boundary-set/la-county-neighborhoods-curr...</td>\n",
       "      <td>{'sqmi': 8.14676029818, 'type': 'standalone-ci...</td>\n",
       "      <td>/1.0/boundary/agoura-hills-la-county-neighborh...</td>\n",
       "      <td>MULTIPOLYGON (((-118.76193 34.16820, -118.7263...</td>\n",
       "    </tr>\n",
       "    <tr>\n",
       "      <th>3</th>\n",
       "      <td>L.A. County Neighborhood (Current)</td>\n",
       "      <td>agua-dulce</td>\n",
       "      <td>Agua Dulce</td>\n",
       "      <td>agua-dulce-la-county-neighborhood-current</td>\n",
       "      <td>/1.0/boundary-set/la-county-neighborhoods-curr...</td>\n",
       "      <td>{'sqmi': 31.4626319451, 'type': 'unincorporate...</td>\n",
       "      <td>/1.0/boundary/agua-dulce-la-county-neighborhoo...</td>\n",
       "      <td>MULTIPOLYGON (((-118.25468 34.55830, -118.2555...</td>\n",
       "    </tr>\n",
       "    <tr>\n",
       "      <th>4</th>\n",
       "      <td>L.A. County Neighborhood (Current)</td>\n",
       "      <td>alhambra</td>\n",
       "      <td>Alhambra</td>\n",
       "      <td>alhambra-la-county-neighborhood-current</td>\n",
       "      <td>/1.0/boundary-set/la-county-neighborhoods-curr...</td>\n",
       "      <td>{'sqmi': 7.62381430605, 'type': 'standalone-ci...</td>\n",
       "      <td>/1.0/boundary/alhambra-la-county-neighborhood-...</td>\n",
       "      <td>MULTIPOLYGON (((-118.12175 34.10504, -118.1168...</td>\n",
       "    </tr>\n",
       "    <tr>\n",
       "      <th>...</th>\n",
       "      <td>...</td>\n",
       "      <td>...</td>\n",
       "      <td>...</td>\n",
       "      <td>...</td>\n",
       "      <td>...</td>\n",
       "      <td>...</td>\n",
       "      <td>...</td>\n",
       "      <td>...</td>\n",
       "    </tr>\n",
       "    <tr>\n",
       "      <th>267</th>\n",
       "      <td>L.A. County Neighborhood (Current)</td>\n",
       "      <td>willowbrook</td>\n",
       "      <td>Willowbrook</td>\n",
       "      <td>willowbrook-la-county-neighborhood-current</td>\n",
       "      <td>/1.0/boundary-set/la-county-neighborhoods-curr...</td>\n",
       "      <td>{'sqmi': 3.76636072646, 'type': 'unincorporate...</td>\n",
       "      <td>/1.0/boundary/willowbrook-la-county-neighborho...</td>\n",
       "      <td>MULTIPOLYGON (((-118.23005 33.92809, -118.2280...</td>\n",
       "    </tr>\n",
       "    <tr>\n",
       "      <th>268</th>\n",
       "      <td>L.A. County Neighborhood (Current)</td>\n",
       "      <td>wilmington</td>\n",
       "      <td>Wilmington</td>\n",
       "      <td>wilmington-la-county-neighborhood-current</td>\n",
       "      <td>/1.0/boundary-set/la-county-neighborhoods-curr...</td>\n",
       "      <td>{'sqmi': 9.1412927044, 'type': 'segment-of-a-c...</td>\n",
       "      <td>/1.0/boundary/wilmington-la-county-neighborhoo...</td>\n",
       "      <td>MULTIPOLYGON (((-118.22476 33.82461, -118.2245...</td>\n",
       "    </tr>\n",
       "    <tr>\n",
       "      <th>269</th>\n",
       "      <td>L.A. County Neighborhood (Current)</td>\n",
       "      <td>windsor-square</td>\n",
       "      <td>Windsor Square</td>\n",
       "      <td>windsor-square-la-county-neighborhood-current</td>\n",
       "      <td>/1.0/boundary-set/la-county-neighborhoods-curr...</td>\n",
       "      <td>{'sqmi': 0.683463802484, 'type': 'segment-of-a...</td>\n",
       "      <td>/1.0/boundary/windsor-square-la-county-neighbo...</td>\n",
       "      <td>MULTIPOLYGON (((-118.31371 34.07631, -118.3138...</td>\n",
       "    </tr>\n",
       "    <tr>\n",
       "      <th>270</th>\n",
       "      <td>L.A. County Neighborhood (Current)</td>\n",
       "      <td>winnetka</td>\n",
       "      <td>Winnetka</td>\n",
       "      <td>winnetka-la-county-neighborhood-current</td>\n",
       "      <td>/1.0/boundary-set/la-county-neighborhoods-curr...</td>\n",
       "      <td>{'sqmi': 4.77724070209, 'type': 'segment-of-a-...</td>\n",
       "      <td>/1.0/boundary/winnetka-la-county-neighborhood-...</td>\n",
       "      <td>MULTIPOLYGON (((-118.56221 34.23150, -118.5621...</td>\n",
       "    </tr>\n",
       "    <tr>\n",
       "      <th>271</th>\n",
       "      <td>L.A. County Neighborhood (Current)</td>\n",
       "      <td>woodland-hills</td>\n",
       "      <td>Woodland Hills</td>\n",
       "      <td>woodland-hills-la-county-neighborhood-current</td>\n",
       "      <td>/1.0/boundary-set/la-county-neighborhoods-curr...</td>\n",
       "      <td>{'sqmi': 14.768309648, 'type': 'segment-of-a-c...</td>\n",
       "      <td>/1.0/boundary/woodland-hills-la-county-neighbo...</td>\n",
       "      <td>MULTIPOLYGON (((-118.57569 34.18822, -118.5736...</td>\n",
       "    </tr>\n",
       "  </tbody>\n",
       "</table>\n",
       "<p>272 rows × 8 columns</p>\n",
       "</div>"
      ],
      "text/plain": [
       "                                   kind      external_id             name  \\\n",
       "0    L.A. County Neighborhood (Current)            acton            Acton   \n",
       "1    L.A. County Neighborhood (Current)  adams-normandie  Adams-Normandie   \n",
       "2    L.A. County Neighborhood (Current)     agoura-hills     Agoura Hills   \n",
       "3    L.A. County Neighborhood (Current)       agua-dulce       Agua Dulce   \n",
       "4    L.A. County Neighborhood (Current)         alhambra         Alhambra   \n",
       "..                                  ...              ...              ...   \n",
       "267  L.A. County Neighborhood (Current)      willowbrook      Willowbrook   \n",
       "268  L.A. County Neighborhood (Current)       wilmington       Wilmington   \n",
       "269  L.A. County Neighborhood (Current)   windsor-square   Windsor Square   \n",
       "270  L.A. County Neighborhood (Current)         winnetka         Winnetka   \n",
       "271  L.A. County Neighborhood (Current)   woodland-hills   Woodland Hills   \n",
       "\n",
       "                                               slug  \\\n",
       "0              acton-la-county-neighborhood-current   \n",
       "1    adams-normandie-la-county-neighborhood-current   \n",
       "2       agoura-hills-la-county-neighborhood-current   \n",
       "3         agua-dulce-la-county-neighborhood-current   \n",
       "4           alhambra-la-county-neighborhood-current   \n",
       "..                                              ...   \n",
       "267      willowbrook-la-county-neighborhood-current   \n",
       "268       wilmington-la-county-neighborhood-current   \n",
       "269   windsor-square-la-county-neighborhood-current   \n",
       "270         winnetka-la-county-neighborhood-current   \n",
       "271   woodland-hills-la-county-neighborhood-current   \n",
       "\n",
       "                                                   set  \\\n",
       "0    /1.0/boundary-set/la-county-neighborhoods-curr...   \n",
       "1    /1.0/boundary-set/la-county-neighborhoods-curr...   \n",
       "2    /1.0/boundary-set/la-county-neighborhoods-curr...   \n",
       "3    /1.0/boundary-set/la-county-neighborhoods-curr...   \n",
       "4    /1.0/boundary-set/la-county-neighborhoods-curr...   \n",
       "..                                                 ...   \n",
       "267  /1.0/boundary-set/la-county-neighborhoods-curr...   \n",
       "268  /1.0/boundary-set/la-county-neighborhoods-curr...   \n",
       "269  /1.0/boundary-set/la-county-neighborhoods-curr...   \n",
       "270  /1.0/boundary-set/la-county-neighborhoods-curr...   \n",
       "271  /1.0/boundary-set/la-county-neighborhoods-curr...   \n",
       "\n",
       "                                              metadata  \\\n",
       "0    {'sqmi': 39.3391089485, 'type': 'unincorporate...   \n",
       "1    {'sqmi': 0.805350187789, 'type': 'segment-of-a...   \n",
       "2    {'sqmi': 8.14676029818, 'type': 'standalone-ci...   \n",
       "3    {'sqmi': 31.4626319451, 'type': 'unincorporate...   \n",
       "4    {'sqmi': 7.62381430605, 'type': 'standalone-ci...   \n",
       "..                                                 ...   \n",
       "267  {'sqmi': 3.76636072646, 'type': 'unincorporate...   \n",
       "268  {'sqmi': 9.1412927044, 'type': 'segment-of-a-c...   \n",
       "269  {'sqmi': 0.683463802484, 'type': 'segment-of-a...   \n",
       "270  {'sqmi': 4.77724070209, 'type': 'segment-of-a-...   \n",
       "271  {'sqmi': 14.768309648, 'type': 'segment-of-a-c...   \n",
       "\n",
       "                                          resource_uri  \\\n",
       "0    /1.0/boundary/acton-la-county-neighborhood-cur...   \n",
       "1    /1.0/boundary/adams-normandie-la-county-neighb...   \n",
       "2    /1.0/boundary/agoura-hills-la-county-neighborh...   \n",
       "3    /1.0/boundary/agua-dulce-la-county-neighborhoo...   \n",
       "4    /1.0/boundary/alhambra-la-county-neighborhood-...   \n",
       "..                                                 ...   \n",
       "267  /1.0/boundary/willowbrook-la-county-neighborho...   \n",
       "268  /1.0/boundary/wilmington-la-county-neighborhoo...   \n",
       "269  /1.0/boundary/windsor-square-la-county-neighbo...   \n",
       "270  /1.0/boundary/winnetka-la-county-neighborhood-...   \n",
       "271  /1.0/boundary/woodland-hills-la-county-neighbo...   \n",
       "\n",
       "                                              geometry  \n",
       "0    MULTIPOLYGON (((-118.20262 34.53899, -118.1894...  \n",
       "1    MULTIPOLYGON (((-118.30901 34.03741, -118.3004...  \n",
       "2    MULTIPOLYGON (((-118.76193 34.16820, -118.7263...  \n",
       "3    MULTIPOLYGON (((-118.25468 34.55830, -118.2555...  \n",
       "4    MULTIPOLYGON (((-118.12175 34.10504, -118.1168...  \n",
       "..                                                 ...  \n",
       "267  MULTIPOLYGON (((-118.23005 33.92809, -118.2280...  \n",
       "268  MULTIPOLYGON (((-118.22476 33.82461, -118.2245...  \n",
       "269  MULTIPOLYGON (((-118.31371 34.07631, -118.3138...  \n",
       "270  MULTIPOLYGON (((-118.56221 34.23150, -118.5621...  \n",
       "271  MULTIPOLYGON (((-118.57569 34.18822, -118.5736...  \n",
       "\n",
       "[272 rows x 8 columns]"
      ]
     },
     "execution_count": 25,
     "metadata": {},
     "output_type": "execute_result"
    }
   ],
   "source": [
    "# assigning data file to name neighborhood\n",
    "neighborhood = gpd.read_file('la-county-neighborhoods-current.geojson')\n",
    "neighborhood"
   ]
  },
  {
   "cell_type": "markdown",
   "metadata": {},
   "source": [
    "The result of running neighborhood is the data table showing each neighborhood, location, and other tags."
   ]
  },
  {
   "cell_type": "code",
   "execution_count": 17,
   "metadata": {},
   "outputs": [
    {
     "data": {
      "text/plain": [
       "(272, 8)"
      ]
     },
     "execution_count": 17,
     "metadata": {},
     "output_type": "execute_result"
    }
   ],
   "source": [
    "#showing dimensions of the data set\n",
    "neighborhood.shape"
   ]
  },
  {
   "cell_type": "markdown",
   "metadata": {},
   "source": [
    "The command neighborhood.shape shows us that the data set has 272 rows and 8 columns of data."
   ]
  },
  {
   "cell_type": "code",
   "execution_count": 10,
   "metadata": {},
   "outputs": [
    {
     "name": "stdout",
     "output_type": "stream",
     "text": [
      "<class 'geopandas.geodataframe.GeoDataFrame'>\n",
      "RangeIndex: 272 entries, 0 to 271\n",
      "Data columns (total 8 columns):\n",
      " #   Column        Non-Null Count  Dtype   \n",
      "---  ------        --------------  -----   \n",
      " 0   kind          272 non-null    object  \n",
      " 1   external_id   272 non-null    object  \n",
      " 2   name          272 non-null    object  \n",
      " 3   slug          272 non-null    object  \n",
      " 4   set           272 non-null    object  \n",
      " 5   metadata      272 non-null    object  \n",
      " 6   resource_uri  272 non-null    object  \n",
      " 7   geometry      272 non-null    geometry\n",
      "dtypes: geometry(1), object(7)\n",
      "memory usage: 17.1+ KB\n"
     ]
    }
   ],
   "source": [
    "# Show datatypes and data frame\n",
    "neighborhood.info()"
   ]
  },
  {
   "cell_type": "markdown",
   "metadata": {},
   "source": [
    "This result shows the categories of data as indicated by the number of columns, and the number of non-null data points in each. It is also shows the data types of each category of data, this data set being mostly object variables."
   ]
  },
  {
   "cell_type": "code",
   "execution_count": 14,
   "metadata": {},
   "outputs": [
    {
     "data": {
      "text/html": [
       "<div>\n",
       "<style scoped>\n",
       "    .dataframe tbody tr th:only-of-type {\n",
       "        vertical-align: middle;\n",
       "    }\n",
       "\n",
       "    .dataframe tbody tr th {\n",
       "        vertical-align: top;\n",
       "    }\n",
       "\n",
       "    .dataframe thead th {\n",
       "        text-align: right;\n",
       "    }\n",
       "</style>\n",
       "<table border=\"1\" class=\"dataframe\">\n",
       "  <thead>\n",
       "    <tr style=\"text-align: right;\">\n",
       "      <th></th>\n",
       "      <th>kind</th>\n",
       "      <th>external_id</th>\n",
       "      <th>name</th>\n",
       "      <th>slug</th>\n",
       "      <th>set</th>\n",
       "      <th>metadata</th>\n",
       "      <th>resource_uri</th>\n",
       "      <th>geometry</th>\n",
       "    </tr>\n",
       "  </thead>\n",
       "  <tbody>\n",
       "    <tr>\n",
       "      <th>0</th>\n",
       "      <td>L.A. County Neighborhood (Current)</td>\n",
       "      <td>acton</td>\n",
       "      <td>Acton</td>\n",
       "      <td>acton-la-county-neighborhood-current</td>\n",
       "      <td>/1.0/boundary-set/la-county-neighborhoods-curr...</td>\n",
       "      <td>{'sqmi': 39.3391089485, 'type': 'unincorporate...</td>\n",
       "      <td>/1.0/boundary/acton-la-county-neighborhood-cur...</td>\n",
       "      <td>MULTIPOLYGON (((-118.20262 34.53899, -118.1894...</td>\n",
       "    </tr>\n",
       "    <tr>\n",
       "      <th>1</th>\n",
       "      <td>L.A. County Neighborhood (Current)</td>\n",
       "      <td>adams-normandie</td>\n",
       "      <td>Adams-Normandie</td>\n",
       "      <td>adams-normandie-la-county-neighborhood-current</td>\n",
       "      <td>/1.0/boundary-set/la-county-neighborhoods-curr...</td>\n",
       "      <td>{'sqmi': 0.805350187789, 'type': 'segment-of-a...</td>\n",
       "      <td>/1.0/boundary/adams-normandie-la-county-neighb...</td>\n",
       "      <td>MULTIPOLYGON (((-118.30901 34.03741, -118.3004...</td>\n",
       "    </tr>\n",
       "    <tr>\n",
       "      <th>2</th>\n",
       "      <td>L.A. County Neighborhood (Current)</td>\n",
       "      <td>agoura-hills</td>\n",
       "      <td>Agoura Hills</td>\n",
       "      <td>agoura-hills-la-county-neighborhood-current</td>\n",
       "      <td>/1.0/boundary-set/la-county-neighborhoods-curr...</td>\n",
       "      <td>{'sqmi': 8.14676029818, 'type': 'standalone-ci...</td>\n",
       "      <td>/1.0/boundary/agoura-hills-la-county-neighborh...</td>\n",
       "      <td>MULTIPOLYGON (((-118.76193 34.16820, -118.7263...</td>\n",
       "    </tr>\n",
       "    <tr>\n",
       "      <th>3</th>\n",
       "      <td>L.A. County Neighborhood (Current)</td>\n",
       "      <td>agua-dulce</td>\n",
       "      <td>Agua Dulce</td>\n",
       "      <td>agua-dulce-la-county-neighborhood-current</td>\n",
       "      <td>/1.0/boundary-set/la-county-neighborhoods-curr...</td>\n",
       "      <td>{'sqmi': 31.4626319451, 'type': 'unincorporate...</td>\n",
       "      <td>/1.0/boundary/agua-dulce-la-county-neighborhoo...</td>\n",
       "      <td>MULTIPOLYGON (((-118.25468 34.55830, -118.2555...</td>\n",
       "    </tr>\n",
       "    <tr>\n",
       "      <th>4</th>\n",
       "      <td>L.A. County Neighborhood (Current)</td>\n",
       "      <td>alhambra</td>\n",
       "      <td>Alhambra</td>\n",
       "      <td>alhambra-la-county-neighborhood-current</td>\n",
       "      <td>/1.0/boundary-set/la-county-neighborhoods-curr...</td>\n",
       "      <td>{'sqmi': 7.62381430605, 'type': 'standalone-ci...</td>\n",
       "      <td>/1.0/boundary/alhambra-la-county-neighborhood-...</td>\n",
       "      <td>MULTIPOLYGON (((-118.12175 34.10504, -118.1168...</td>\n",
       "    </tr>\n",
       "  </tbody>\n",
       "</table>\n",
       "</div>"
      ],
      "text/plain": [
       "                                 kind      external_id             name  \\\n",
       "0  L.A. County Neighborhood (Current)            acton            Acton   \n",
       "1  L.A. County Neighborhood (Current)  adams-normandie  Adams-Normandie   \n",
       "2  L.A. County Neighborhood (Current)     agoura-hills     Agoura Hills   \n",
       "3  L.A. County Neighborhood (Current)       agua-dulce       Agua Dulce   \n",
       "4  L.A. County Neighborhood (Current)         alhambra         Alhambra   \n",
       "\n",
       "                                             slug  \\\n",
       "0            acton-la-county-neighborhood-current   \n",
       "1  adams-normandie-la-county-neighborhood-current   \n",
       "2     agoura-hills-la-county-neighborhood-current   \n",
       "3       agua-dulce-la-county-neighborhood-current   \n",
       "4         alhambra-la-county-neighborhood-current   \n",
       "\n",
       "                                                 set  \\\n",
       "0  /1.0/boundary-set/la-county-neighborhoods-curr...   \n",
       "1  /1.0/boundary-set/la-county-neighborhoods-curr...   \n",
       "2  /1.0/boundary-set/la-county-neighborhoods-curr...   \n",
       "3  /1.0/boundary-set/la-county-neighborhoods-curr...   \n",
       "4  /1.0/boundary-set/la-county-neighborhoods-curr...   \n",
       "\n",
       "                                            metadata  \\\n",
       "0  {'sqmi': 39.3391089485, 'type': 'unincorporate...   \n",
       "1  {'sqmi': 0.805350187789, 'type': 'segment-of-a...   \n",
       "2  {'sqmi': 8.14676029818, 'type': 'standalone-ci...   \n",
       "3  {'sqmi': 31.4626319451, 'type': 'unincorporate...   \n",
       "4  {'sqmi': 7.62381430605, 'type': 'standalone-ci...   \n",
       "\n",
       "                                        resource_uri  \\\n",
       "0  /1.0/boundary/acton-la-county-neighborhood-cur...   \n",
       "1  /1.0/boundary/adams-normandie-la-county-neighb...   \n",
       "2  /1.0/boundary/agoura-hills-la-county-neighborh...   \n",
       "3  /1.0/boundary/agua-dulce-la-county-neighborhoo...   \n",
       "4  /1.0/boundary/alhambra-la-county-neighborhood-...   \n",
       "\n",
       "                                            geometry  \n",
       "0  MULTIPOLYGON (((-118.20262 34.53899, -118.1894...  \n",
       "1  MULTIPOLYGON (((-118.30901 34.03741, -118.3004...  \n",
       "2  MULTIPOLYGON (((-118.76193 34.16820, -118.7263...  \n",
       "3  MULTIPOLYGON (((-118.25468 34.55830, -118.2555...  \n",
       "4  MULTIPOLYGON (((-118.12175 34.10504, -118.1168...  "
      ]
     },
     "execution_count": 14,
     "metadata": {},
     "output_type": "execute_result"
    }
   ],
   "source": [
    "# show first five rows of the dataset\n",
    "neighborhood.head()"
   ]
  },
  {
   "cell_type": "markdown",
   "metadata": {},
   "source": [
    "This table is the first five rows of the data set. The result can be changed by inserting a number in the parantheses."
   ]
  },
  {
   "cell_type": "code",
   "execution_count": 20,
   "metadata": {},
   "outputs": [
    {
     "data": {
      "text/plain": [
       "Tarzana            1\n",
       "Acton              1\n",
       "Sylmar             1\n",
       "Pico Rivera        1\n",
       "Vernon             1\n",
       "                  ..\n",
       "Alondra Park       1\n",
       "Lincoln Heights    1\n",
       "Sepulveda Basin    1\n",
       "Walnut             1\n",
       "South Pasadena     1\n",
       "Name: name, Length: 272, dtype: int64"
      ]
     },
     "execution_count": 20,
     "metadata": {},
     "output_type": "execute_result"
    }
   ],
   "source": [
    "# number of occurences per name\n",
    "neighborhood['name'].value_counts()"
   ]
  },
  {
   "cell_type": "markdown",
   "metadata": {},
   "source": [
    "Because of the types of data in the table, there isn't a good variable for the value counts function. Each variable is a distinct object/name, except for the geometry data. This result shows that each neighborhood has a distinct name."
   ]
  },
  {
   "cell_type": "code",
   "execution_count": 21,
   "metadata": {},
   "outputs": [],
   "source": [
    "# limit view to desired columns\n",
    "desired_columns = ['name','geometry']"
   ]
  },
  {
   "cell_type": "markdown",
   "metadata": {},
   "source": [
    "This cell is used to trim the column data to only the name of the neighborhood and the geometry data."
   ]
  },
  {
   "cell_type": "markdown",
   "metadata": {},
   "source": [
    "We need to assign the desired columns to a new copy of neighborhoods called neighborhoods_trimmed."
   ]
  },
  {
   "cell_type": "code",
   "execution_count": 22,
   "metadata": {},
   "outputs": [
    {
     "data": {
      "text/html": [
       "<div>\n",
       "<style scoped>\n",
       "    .dataframe tbody tr th:only-of-type {\n",
       "        vertical-align: middle;\n",
       "    }\n",
       "\n",
       "    .dataframe tbody tr th {\n",
       "        vertical-align: top;\n",
       "    }\n",
       "\n",
       "    .dataframe thead th {\n",
       "        text-align: right;\n",
       "    }\n",
       "</style>\n",
       "<table border=\"1\" class=\"dataframe\">\n",
       "  <thead>\n",
       "    <tr style=\"text-align: right;\">\n",
       "      <th></th>\n",
       "      <th>name</th>\n",
       "      <th>geometry</th>\n",
       "    </tr>\n",
       "  </thead>\n",
       "  <tbody>\n",
       "    <tr>\n",
       "      <th>0</th>\n",
       "      <td>Acton</td>\n",
       "      <td>MULTIPOLYGON (((-118.20262 34.53899, -118.1894...</td>\n",
       "    </tr>\n",
       "    <tr>\n",
       "      <th>1</th>\n",
       "      <td>Adams-Normandie</td>\n",
       "      <td>MULTIPOLYGON (((-118.30901 34.03741, -118.3004...</td>\n",
       "    </tr>\n",
       "    <tr>\n",
       "      <th>2</th>\n",
       "      <td>Agoura Hills</td>\n",
       "      <td>MULTIPOLYGON (((-118.76193 34.16820, -118.7263...</td>\n",
       "    </tr>\n",
       "    <tr>\n",
       "      <th>3</th>\n",
       "      <td>Agua Dulce</td>\n",
       "      <td>MULTIPOLYGON (((-118.25468 34.55830, -118.2555...</td>\n",
       "    </tr>\n",
       "    <tr>\n",
       "      <th>4</th>\n",
       "      <td>Alhambra</td>\n",
       "      <td>MULTIPOLYGON (((-118.12175 34.10504, -118.1168...</td>\n",
       "    </tr>\n",
       "    <tr>\n",
       "      <th>...</th>\n",
       "      <td>...</td>\n",
       "      <td>...</td>\n",
       "    </tr>\n",
       "    <tr>\n",
       "      <th>267</th>\n",
       "      <td>Willowbrook</td>\n",
       "      <td>MULTIPOLYGON (((-118.23005 33.92809, -118.2280...</td>\n",
       "    </tr>\n",
       "    <tr>\n",
       "      <th>268</th>\n",
       "      <td>Wilmington</td>\n",
       "      <td>MULTIPOLYGON (((-118.22476 33.82461, -118.2245...</td>\n",
       "    </tr>\n",
       "    <tr>\n",
       "      <th>269</th>\n",
       "      <td>Windsor Square</td>\n",
       "      <td>MULTIPOLYGON (((-118.31371 34.07631, -118.3138...</td>\n",
       "    </tr>\n",
       "    <tr>\n",
       "      <th>270</th>\n",
       "      <td>Winnetka</td>\n",
       "      <td>MULTIPOLYGON (((-118.56221 34.23150, -118.5621...</td>\n",
       "    </tr>\n",
       "    <tr>\n",
       "      <th>271</th>\n",
       "      <td>Woodland Hills</td>\n",
       "      <td>MULTIPOLYGON (((-118.57569 34.18822, -118.5736...</td>\n",
       "    </tr>\n",
       "  </tbody>\n",
       "</table>\n",
       "<p>272 rows × 2 columns</p>\n",
       "</div>"
      ],
      "text/plain": [
       "                name                                           geometry\n",
       "0              Acton  MULTIPOLYGON (((-118.20262 34.53899, -118.1894...\n",
       "1    Adams-Normandie  MULTIPOLYGON (((-118.30901 34.03741, -118.3004...\n",
       "2       Agoura Hills  MULTIPOLYGON (((-118.76193 34.16820, -118.7263...\n",
       "3         Agua Dulce  MULTIPOLYGON (((-118.25468 34.55830, -118.2555...\n",
       "4           Alhambra  MULTIPOLYGON (((-118.12175 34.10504, -118.1168...\n",
       "..               ...                                                ...\n",
       "267      Willowbrook  MULTIPOLYGON (((-118.23005 33.92809, -118.2280...\n",
       "268       Wilmington  MULTIPOLYGON (((-118.22476 33.82461, -118.2245...\n",
       "269   Windsor Square  MULTIPOLYGON (((-118.31371 34.07631, -118.3138...\n",
       "270         Winnetka  MULTIPOLYGON (((-118.56221 34.23150, -118.5621...\n",
       "271   Woodland Hills  MULTIPOLYGON (((-118.57569 34.18822, -118.5736...\n",
       "\n",
       "[272 rows x 2 columns]"
      ]
     },
     "execution_count": 22,
     "metadata": {},
     "output_type": "execute_result"
    }
   ],
   "source": [
    "neighborhoods_trimmed = neighborhood[desired_columns].copy()\n",
    "neighborhoods_trimmed"
   ]
  },
  {
   "cell_type": "markdown",
   "metadata": {},
   "source": [
    "There is a lot of unnecesary data in the columns when it comes to plotting. This trimmed table shows just the neighborhood name and the geometry data for each. This can be used with the plot function"
   ]
  },
  {
   "cell_type": "code",
   "execution_count": 24,
   "metadata": {},
   "outputs": [
    {
     "data": {
      "text/plain": [
       "<matplotlib.axes._subplots.AxesSubplot at 0x7fe3d407ceb0>"
      ]
     },
     "execution_count": 24,
     "metadata": {},
     "output_type": "execute_result"
    },
    {
     "data": {
      "image/png": "[encoded data removed]",
      "text/plain": [
       "<Figure size 432x288 with 1 Axes>"
      ]
     },
     "metadata": {
      "needs_background": "light"
     },
     "output_type": "display_data"
    }
   ],
   "source": [
    "# plot each neighborhood region\n",
    "neighborhoods_trimmed.plot()"
   ]
  },
  {
   "cell_type": "markdown",
   "metadata": {},
   "source": [
    "The result of this function shows an outlined plot of each neighborhood region in LA county. The geometry data allows for this to be produced because of geopandas. "
   ]
  },
  {
   "cell_type": "code",
   "execution_count": 34,
   "metadata": {},
   "outputs": [
    {
     "data": {
      "text/html": [
       "<div>\n",
       "<style scoped>\n",
       "    .dataframe tbody tr th:only-of-type {\n",
       "        vertical-align: middle;\n",
       "    }\n",
       "\n",
       "    .dataframe tbody tr th {\n",
       "        vertical-align: top;\n",
       "    }\n",
       "\n",
       "    .dataframe thead th {\n",
       "        text-align: right;\n",
       "    }\n",
       "</style>\n",
       "<table border=\"1\" class=\"dataframe\">\n",
       "  <thead>\n",
       "    <tr style=\"text-align: right;\">\n",
       "      <th></th>\n",
       "      <th>name</th>\n",
       "      <th>geometry</th>\n",
       "    </tr>\n",
       "  </thead>\n",
       "  <tbody>\n",
       "    <tr>\n",
       "      <th>0</th>\n",
       "      <td>Acton</td>\n",
       "      <td>MULTIPOLYGON (((-118.20262 34.53899, -118.1894...</td>\n",
       "    </tr>\n",
       "    <tr>\n",
       "      <th>4</th>\n",
       "      <td>Alhambra</td>\n",
       "      <td>MULTIPOLYGON (((-118.12175 34.10504, -118.1168...</td>\n",
       "    </tr>\n",
       "    <tr>\n",
       "      <th>48</th>\n",
       "      <td>Claremont</td>\n",
       "      <td>MULTIPOLYGON (((-117.75581 34.16532, -117.7248...</td>\n",
       "    </tr>\n",
       "    <tr>\n",
       "      <th>84</th>\n",
       "      <td>Glendora</td>\n",
       "      <td>MULTIPOLYGON (((-117.82408 34.17861, -117.7936...</td>\n",
       "    </tr>\n",
       "    <tr>\n",
       "      <th>170</th>\n",
       "      <td>Pasadena</td>\n",
       "      <td>MULTIPOLYGON (((-118.19557 34.25190, -118.1868...</td>\n",
       "    </tr>\n",
       "    <tr>\n",
       "      <th>176</th>\n",
       "      <td>Pomona</td>\n",
       "      <td>MULTIPOLYGON (((-117.74853 34.11114, -117.7465...</td>\n",
       "    </tr>\n",
       "  </tbody>\n",
       "</table>\n",
       "</div>"
      ],
      "text/plain": [
       "          name                                           geometry\n",
       "0        Acton  MULTIPOLYGON (((-118.20262 34.53899, -118.1894...\n",
       "4     Alhambra  MULTIPOLYGON (((-118.12175 34.10504, -118.1168...\n",
       "48   Claremont  MULTIPOLYGON (((-117.75581 34.16532, -117.7248...\n",
       "84    Glendora  MULTIPOLYGON (((-117.82408 34.17861, -117.7936...\n",
       "170   Pasadena  MULTIPOLYGON (((-118.19557 34.25190, -118.1868...\n",
       "176     Pomona  MULTIPOLYGON (((-117.74853 34.11114, -117.7465..."
      ]
     },
     "execution_count": 34,
     "metadata": {},
     "output_type": "execute_result"
    }
   ],
   "source": [
    "# query sorting data based off of a few cities\n",
    "neighborhoods_trimmed.query('name in [\"Acton\",\"Alhambra\",\"Pasadena\",\"Claremont\",\"Pomona\",\"Glendora\"] ')"
   ]
  },
  {
   "cell_type": "markdown",
   "metadata": {},
   "source": [
    "As mentioned previously, each neighborhood is in LA County and has its own name. This makes it difficult to use .query because there is not a great variable to sort by in this data set. This query just shows the data of a few neighborhoods that I am specifically familiar with."
   ]
  },
  {
   "cell_type": "code",
   "execution_count": null,
   "metadata": {},
   "outputs": [],
   "source": []
  }
 ],
 "metadata": {
  "kernelspec": {
   "display_name": "Python 3",
   "language": "python",
   "name": "python3"
  },
  "language_info": {
   "codemirror_mode": {
    "name": "ipython",
    "version": 3
   },
   "file_extension": ".py",
   "mimetype": "text/x-python",
   "name": "python",
   "nbconvert_exporter": "python",
   "pygments_lexer": "ipython3",
   "version": "3.8.5"
  },
  "toc": {
   "base_numbering": 1,
   "nav_menu": {},
   "number_sections": true,
   "sideBar": true,
   "skip_h1_title": false,
   "title_cell": "Table of Contents",
   "title_sidebar": "Contents",
   "toc_cell": false,
   "toc_position": {},
   "toc_section_display": true,
   "toc_window_display": false
  }
 },
 "nbformat": 4,
 "nbformat_minor": 4
}
